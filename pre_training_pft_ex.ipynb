{
 "cells": [
  {
   "cell_type": "code",
   "execution_count": 6,
   "id": "3ac580a1",
   "metadata": {},
   "outputs": [],
   "source": [
    "import numpy as np\n",
    "samples = np.load('data/global_pft_ex_norm.npy')\n",
    "pft = np.load('data/global_pft_ex.npy')\n",
    "samples[4,:] = pft[4,:]"
   ]
  },
  {
   "cell_type": "code",
   "execution_count": 9,
   "id": "d3b63a7b",
   "metadata": {},
   "outputs": [],
   "source": [
    "n_subsample = 800000\n",
    "subsample_indices = np.random.choice(samples.shape[1], size=n_subsample, replace=False)\n",
    "# Extract features and target\n",
    "X = samples[[0, 1, 4], :][:, subsample_indices].T\n",
    "y = samples[3, subsample_indices]"
   ]
  },
  {
   "cell_type": "code",
   "execution_count": 10,
   "id": "24b15df9",
   "metadata": {},
   "outputs": [
    {
     "data": {
      "text/plain": [
       "((800000, 3), (800000,))"
      ]
     },
     "execution_count": 10,
     "metadata": {},
     "output_type": "execute_result"
    }
   ],
   "source": [
    "X.shape, y.shape"
   ]
  },
  {
   "cell_type": "code",
   "execution_count": 11,
   "id": "36beeb19",
   "metadata": {},
   "outputs": [
    {
     "name": "stdout",
     "output_type": "stream",
     "text": [
      "Original X shape: (800000, 3)\n",
      "Unique PFT values: [1. 2. 3.]\n",
      "PFT categories: [1. 2. 3.]\n",
      "One-hot encoded PFT shape: (800000, 3)\n",
      "Final X shape after one-hot encoding: (800000, 5)\n",
      "Feature order: [SSRD, VPD, PFT_1.0, PFT_2.0, PFT_3.0]\n"
     ]
    }
   ],
   "source": [
    "# One-hot encode the PFT variable (last column in X)\n",
    "from sklearn.preprocessing import OneHotEncoder\n",
    "import numpy as np\n",
    "\n",
    "print(f\"Original X shape: {X.shape}\")\n",
    "print(f\"Unique PFT values: {np.unique(X[:, 2])}\")\n",
    "\n",
    "# Separate continuous features (SSRD, VPD) from categorical (PFT)\n",
    "X_continuous = X[:, :2]  # First 2 columns: SSRD, VPD\n",
    "X_pft = X[:, 2:3]        # Last column: PFT (keep 2D for OneHotEncoder)\n",
    "\n",
    "# Initialize and fit one-hot encoder\n",
    "pft_encoder = OneHotEncoder(sparse_output=False, dtype=np.float32)\n",
    "X_pft_encoded = pft_encoder.fit_transform(X_pft)\n",
    "\n",
    "print(f\"PFT categories: {pft_encoder.categories_[0]}\")\n",
    "print(f\"One-hot encoded PFT shape: {X_pft_encoded.shape}\")\n",
    "\n",
    "# Combine continuous features with one-hot encoded PFT\n",
    "X_encoded = np.concatenate([X_continuous, X_pft_encoded], axis=1)\n",
    "\n",
    "print(f\"Final X shape after one-hot encoding: {X_encoded.shape}\")\n",
    "print(f\"Feature order: [SSRD, VPD, PFT_1.0, PFT_2.0, PFT_3.0]\")\n",
    "\n",
    "# Update X to use the encoded version\n",
    "X = X_encoded"
   ]
  },
  {
   "cell_type": "code",
   "execution_count": 15,
   "id": "a9aa36b8",
   "metadata": {},
   "outputs": [
    {
     "name": "stdout",
     "output_type": "stream",
     "text": [
      "Training set: 640,000 samples\n",
      "Validation set: 160,000 samples\n",
      "Total subsampled: 800,000 samples\n"
     ]
    }
   ],
   "source": [
    "# Split subsampled data into training and validation sets\n",
    "# Convert data to PyTorch tensors\n",
    "from sklearn.model_selection import train_test_split\n",
    "X_train, X_val, y_train, y_val = train_test_split(X, y, test_size=0.2, random_state=42)\n",
    "\n",
    "import torch\n",
    "X_train_tensor = torch.tensor(X_train, dtype=torch.float32)\n",
    "y_train_tensor = torch.tensor(y_train, dtype=torch.float32).unsqueeze(1)  # Ensure correct shape\n",
    "X_val_tensor = torch.tensor(X_val, dtype=torch.float32)\n",
    "y_val_tensor = torch.tensor(y_val, dtype=torch.float32).unsqueeze(1)\n",
    "\n",
    "print(f\"Training set: {X_train_tensor.shape[0]:,} samples\")\n",
    "print(f\"Validation set: {X_val_tensor.shape[0]:,} samples\")\n",
    "print(f\"Total subsampled: {X_train_tensor.shape[0] + X_val_tensor.shape[0]:,} samples\")"
   ]
  },
  {
   "cell_type": "code",
   "execution_count": 16,
   "id": "3107ea5c",
   "metadata": {},
   "outputs": [],
   "source": [
    "from model import ClimateDataset\n",
    "from torch.utils.data import DataLoader\n",
    "# Create DataLoaders\n",
    "batch_size = 64  # You can adjust this value based on your available memory and GPU capacity\n",
    "train_loader = DataLoader(ClimateDataset(X_train_tensor, y_train_tensor), batch_size=batch_size, shuffle=True)\n",
    "val_loader = DataLoader(ClimateDataset(X_val_tensor, y_val_tensor), batch_size=batch_size, shuffle=False)"
   ]
  },
  {
   "cell_type": "code",
   "execution_count": 17,
   "id": "92ccaea2",
   "metadata": {},
   "outputs": [
    {
     "name": "stdout",
     "output_type": "stream",
     "text": [
      "Model input dimension: 5\n",
      "Training on device: cuda\n",
      "Model initialized with 5 input features\n",
      "Epoch [1/10], Train Loss: 0.0042839308, Val Loss: 0.0021990116\n",
      "Epoch [2/10], Train Loss: 0.0021645566, Val Loss: 0.0019976896\n",
      "Epoch [3/10], Train Loss: 0.0020951237, Val Loss: 0.0021352977\n",
      "Epoch [4/10], Train Loss: 0.0020766684, Val Loss: 0.0023167580\n",
      "Epoch [5/10], Train Loss: 0.0020568987, Val Loss: 0.0019707277\n",
      "Epoch [6/10], Train Loss: 0.0020509308, Val Loss: 0.0019815835\n",
      "Epoch [7/10], Train Loss: 0.0020355976, Val Loss: 0.0020240303\n",
      "Epoch [8/10], Train Loss: 0.0020352916, Val Loss: 0.0020893544\n",
      "Epoch [9/10], Train Loss: 0.0020289829, Val Loss: 0.0021640119\n",
      "Epoch [10/10], Train Loss: 0.0020258463, Val Loss: 0.0019405775\n"
     ]
    }
   ],
   "source": [
    "from model import NeuralNet\n",
    "from torch import nn, optim\n",
    "# Initialize model, loss function, and optimizer\n",
    "input_dim = X.shape[1]  # Number of features after one-hot encoding (SSRD, VPD, PFT_1, PFT_2, PFT_3)\n",
    "print(f\"Model input dimension: {input_dim}\")\n",
    "\n",
    "model = NeuralNet(input_dim)\n",
    "device = torch.device(\"cuda\" if torch.cuda.is_available() else \"cpu\")\n",
    "model.to(device)\n",
    "criterion = nn.MSELoss()\n",
    "optimizer = optim.Adam(model.parameters(), lr=0.001)\n",
    "\n",
    "print(f\"Training on device: {device}\")\n",
    "print(f\"Model initialized with {input_dim} input features\")\n",
    "\n",
    "# Training loop\n",
    "num_epochs = 10\n",
    "for epoch in range(num_epochs):\n",
    "    model.train()\n",
    "    total_train_loss = 0\n",
    "    for batch_X, batch_y in train_loader:\n",
    "        batch_X, batch_y = batch_X.to(device), batch_y.to(device)\n",
    "\n",
    "        optimizer.zero_grad()\n",
    "        outputs = model(batch_X)\n",
    "        loss = criterion(outputs, batch_y)\n",
    "        loss.backward()\n",
    "        optimizer.step()\n",
    "\n",
    "        total_train_loss += loss.item()\n",
    "\n",
    "    # Validation Step\n",
    "    model.eval()\n",
    "    total_val_loss = 0\n",
    "    with torch.no_grad():\n",
    "        for batch_X, batch_y in val_loader:\n",
    "            batch_X, batch_y = batch_X.to(device), batch_y.to(device)\n",
    "            outputs = model(batch_X)\n",
    "            loss = criterion(outputs, batch_y)\n",
    "            total_val_loss += loss.item()\n",
    "\n",
    "    avg_train_loss = total_train_loss / len(train_loader)\n",
    "    avg_val_loss = total_val_loss / len(val_loader)\n",
    "\n",
    "    print(f\"Epoch [{epoch+1}/{num_epochs}], Train Loss: {avg_train_loss:.10f}, \"\n",
    "            f\"Val Loss: {avg_val_loss:.10f}\")"
   ]
  },
  {
   "cell_type": "code",
   "execution_count": 18,
   "id": "e5d18c2b",
   "metadata": {},
   "outputs": [],
   "source": [
    "torch.save(model.state_dict(), \"./outputs/model_weights_pre-training_pft_ex.pth\")"
   ]
  }
 ],
 "metadata": {
  "kernelspec": {
   "display_name": "Ellis_challenge",
   "language": "python",
   "name": "python3"
  },
  "language_info": {
   "codemirror_mode": {
    "name": "ipython",
    "version": 3
   },
   "file_extension": ".py",
   "mimetype": "text/x-python",
   "name": "python",
   "nbconvert_exporter": "python",
   "pygments_lexer": "ipython3",
   "version": "3.10.18"
  }
 },
 "nbformat": 4,
 "nbformat_minor": 5
}
