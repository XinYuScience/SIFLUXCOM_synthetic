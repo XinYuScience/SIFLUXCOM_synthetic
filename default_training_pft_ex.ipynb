{
 "cells": [
  {
   "cell_type": "code",
   "execution_count": 5,
   "id": "1d86aedf",
   "metadata": {},
   "outputs": [],
   "source": [
    "import numpy as np\n",
    "samples = np.load('data/samples_300_pft_ex_norm.npy')\n"
   ]
  },
  {
   "cell_type": "code",
   "execution_count": 6,
   "id": "16fbb610",
   "metadata": {},
   "outputs": [],
   "source": [
    "# Extract features and target\n",
    "X = samples[0:2,:].T\n",
    "y = samples[2,:]"
   ]
  },
  {
   "cell_type": "code",
   "execution_count": 7,
   "id": "72ed1773",
   "metadata": {},
   "outputs": [],
   "source": [
    "# Split data into training and validation sets\n",
    "# Convert data to PyTorch tensors\n",
    "from sklearn.model_selection import train_test_split\n",
    "X_train, X_val, y_train, y_val = train_test_split(X, y, test_size=0.2, random_state=42)\n",
    "import torch\n",
    "X_train_tensor = torch.tensor(X_train, dtype=torch.float32)\n",
    "y_train_tensor = torch.tensor(y_train, dtype=torch.float32).unsqueeze(1)  # Ensure correct shape\n",
    "X_val_tensor = torch.tensor(X_val, dtype=torch.float32)\n",
    "y_val_tensor = torch.tensor(y_val, dtype=torch.float32).unsqueeze(1)"
   ]
  },
  {
   "cell_type": "code",
   "execution_count": 8,
   "id": "5d55cd22",
   "metadata": {},
   "outputs": [],
   "source": [
    "from model import ClimateDataset\n",
    "from torch.utils.data import DataLoader\n",
    "# Create DataLoaders\n",
    "batch_size = 64  # You can adjust this value based on your available memory and GPU capacity\n",
    "train_loader = DataLoader(ClimateDataset(X_train_tensor, y_train_tensor), batch_size=batch_size, shuffle=True)\n",
    "val_loader = DataLoader(ClimateDataset(X_val_tensor, y_val_tensor), batch_size=batch_size, shuffle=False)"
   ]
  },
  {
   "cell_type": "code",
   "execution_count": 9,
   "id": "29f89c14",
   "metadata": {},
   "outputs": [
    {
     "name": "stdout",
     "output_type": "stream",
     "text": [
      "Epoch [1/10], Train Loss: 0.0200940187, Val Loss: 0.0022466724\n",
      "Epoch [2/10], Train Loss: 0.0020718029, Val Loss: 0.0018426497\n",
      "Epoch [3/10], Train Loss: 0.0020192507, Val Loss: 0.0021463732\n",
      "Epoch [4/10], Train Loss: 0.0019707168, Val Loss: 0.0017993924\n",
      "Epoch [5/10], Train Loss: 0.0019685023, Val Loss: 0.0018419213\n",
      "Epoch [6/10], Train Loss: 0.0018895287, Val Loss: 0.0017889499\n",
      "Epoch [7/10], Train Loss: 0.0018991749, Val Loss: 0.0019667584\n",
      "Epoch [8/10], Train Loss: 0.0018875850, Val Loss: 0.0018737803\n",
      "Epoch [9/10], Train Loss: 0.0018868214, Val Loss: 0.0017263335\n",
      "Epoch [10/10], Train Loss: 0.0018632411, Val Loss: 0.0018463056\n"
     ]
    }
   ],
   "source": [
    "from model import NeuralNet\n",
    "from torch import nn, optim\n",
    "# Initialize model, loss function, and optimizer\n",
    "input_dim = 2  # Number of predictors (ssrd and vpd)\n",
    "model = NeuralNet(input_dim)\n",
    "device = torch.device(\"cuda\" if torch.cuda.is_available() else \"cpu\")\n",
    "model.to(device)\n",
    "criterion = nn.MSELoss()\n",
    "optimizer = optim.Adam(model.parameters(), lr=0.001)\n",
    "\n",
    "# Training loop\n",
    "num_epochs = 10\n",
    "for epoch in range(num_epochs):\n",
    "    model.train()\n",
    "    total_train_loss = 0\n",
    "    for batch_X, batch_y in train_loader:\n",
    "        batch_X, batch_y = batch_X.to(device), batch_y.to(device)\n",
    "\n",
    "        optimizer.zero_grad()\n",
    "        outputs = model(batch_X)\n",
    "        loss = criterion(outputs, batch_y)\n",
    "        loss.backward()\n",
    "        optimizer.step()\n",
    "\n",
    "        total_train_loss += loss.item()\n",
    "\n",
    "    # Validation Step\n",
    "    model.eval()\n",
    "    total_val_loss = 0\n",
    "    with torch.no_grad():\n",
    "        for batch_X, batch_y in val_loader:\n",
    "            batch_X, batch_y = batch_X.to(device), batch_y.to(device)\n",
    "            outputs = model(batch_X)\n",
    "            loss = criterion(outputs, batch_y)\n",
    "            total_val_loss += loss.item()\n",
    "\n",
    "    avg_train_loss = total_train_loss / len(train_loader)\n",
    "    avg_val_loss = total_val_loss / len(val_loader)\n",
    "\n",
    "    print(f\"Epoch [{epoch+1}/{num_epochs}], Train Loss: {avg_train_loss:.10f}, \"\n",
    "            f\"Val Loss: {avg_val_loss:.10f}\")\n"
   ]
  },
  {
   "cell_type": "code",
   "execution_count": 10,
   "id": "52543850",
   "metadata": {},
   "outputs": [],
   "source": [
    "# Save the model weights\n",
    "torch.save(model.state_dict(), \"./outputs/model_weights_default_pft_ex.pth\")"
   ]
  },
  {
   "cell_type": "code",
   "execution_count": null,
   "id": "f53294d0",
   "metadata": {},
   "outputs": [],
   "source": []
  }
 ],
 "metadata": {
  "kernelspec": {
   "display_name": "Ellis_challenge",
   "language": "python",
   "name": "python3"
  },
  "language_info": {
   "codemirror_mode": {
    "name": "ipython",
    "version": 3
   },
   "file_extension": ".py",
   "mimetype": "text/x-python",
   "name": "python",
   "nbconvert_exporter": "python",
   "pygments_lexer": "ipython3",
   "version": "3.10.18"
  }
 },
 "nbformat": 4,
 "nbformat_minor": 5
}
