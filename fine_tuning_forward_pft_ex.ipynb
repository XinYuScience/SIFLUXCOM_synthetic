{
 "cells": [
  {
   "cell_type": "code",
   "execution_count": 21,
   "id": "1d86aedf",
   "metadata": {},
   "outputs": [],
   "source": [
    "import numpy as np\n",
    "samples = np.load('data/global_pft_ex.npy')\n",
    "n_subsample = 800000\n",
    "subsample_indices = np.random.choice(samples.shape[1], size=n_subsample, replace=False)\n",
    "# Extract features and target\n",
    "X = samples[[0, 1, 4], :][:, subsample_indices].T\n",
    "y = samples[2,subsample_indices]"
   ]
  },
  {
   "cell_type": "code",
   "execution_count": 22,
   "id": "eb3655de",
   "metadata": {},
   "outputs": [
    {
     "name": "stdout",
     "output_type": "stream",
     "text": [
      "Original X shape: (800000, 3)\n",
      "Unique PFT values: [1. 2. 3.]\n",
      "PFT categories: [1. 2. 3.]\n",
      "One-hot encoded PFT shape: (800000, 3)\n",
      "Final X shape after one-hot encoding: (800000, 5)\n",
      "Feature order: [SSRD, VPD, PFT_1.0, PFT_2.0, PFT_3.0]\n"
     ]
    }
   ],
   "source": [
    "from sklearn.preprocessing import OneHotEncoder\n",
    "import numpy as np\n",
    "\n",
    "print(f\"Original X shape: {X.shape}\")\n",
    "print(f\"Unique PFT values: {np.unique(X[:, 2])}\")\n",
    "\n",
    "# Separate continuous features (SSRD, VPD) from categorical (PFT)\n",
    "X_continuous = X[:, :2]  # First 2 columns: SSRD, VPD\n",
    "X_pft = X[:, 2:3]        # Last column: PFT (keep 2D for OneHotEncoder)\n",
    "\n",
    "# Initialize and fit one-hot encoder\n",
    "pft_encoder = OneHotEncoder(sparse_output=False, dtype=np.float32)\n",
    "X_pft_encoded = pft_encoder.fit_transform(X_pft)\n",
    "\n",
    "print(f\"PFT categories: {pft_encoder.categories_[0]}\")\n",
    "print(f\"One-hot encoded PFT shape: {X_pft_encoded.shape}\")\n",
    "\n",
    "# Combine continuous features with one-hot encoded PFT\n",
    "X_encoded = np.concatenate([X_continuous, X_pft_encoded], axis=1)\n",
    "\n",
    "print(f\"Final X shape after one-hot encoding: {X_encoded.shape}\")\n",
    "print(f\"Feature order: [SSRD, VPD, PFT_1.0, PFT_2.0, PFT_3.0]\")\n",
    "\n",
    "# Update X to use the encoded version"
   ]
  },
  {
   "cell_type": "code",
   "execution_count": 6,
   "id": "8e47abad",
   "metadata": {},
   "outputs": [],
   "source": [
    "stats_dict = np.load('data/stats_300_pft_ex.npy', allow_pickle=True).item()\n",
    "ssrd_mean = stats_dict['ssrd_mean']\n",
    "ssrd_std = stats_dict['ssrd_std']\n",
    "vpd_mean = stats_dict['vpd_mean']\n",
    "vpd_std = stats_dict['vpd_std']\n",
    "gpp_mean = stats_dict['gpp_mean']\n",
    "gpp_std = stats_dict['gpp_std']"
   ]
  },
  {
   "cell_type": "code",
   "execution_count": 23,
   "id": "acf1356b",
   "metadata": {},
   "outputs": [],
   "source": [
    "# Normalize your input features X\n",
    "X_normalized = X_encoded.copy()\n",
    "X_normalized[:, 0] = (X_encoded[:, 0] - ssrd_mean) / ssrd_std  # SSRD\n",
    "X_normalized[:, 1] = (X_encoded[:, 1] - vpd_mean) / vpd_std    # VPD"
   ]
  },
  {
   "cell_type": "code",
   "execution_count": 24,
   "id": "72ed1773",
   "metadata": {},
   "outputs": [],
   "source": [
    "import torch\n",
    "X_tensor = torch.tensor(X_normalized, dtype=torch.float32)\n",
    "y_tensor = torch.tensor(y, dtype=torch.float32).unsqueeze(1)  # Ensure correct shape"
   ]
  },
  {
   "cell_type": "code",
   "execution_count": 25,
   "id": "5d55cd22",
   "metadata": {},
   "outputs": [],
   "source": [
    "from model import ClimateDataset\n",
    "from torch.utils.data import DataLoader\n",
    "# Create DataLoaders\n",
    "batch_size = 1024  # You can adjust this value based on your available memory and GPU capacity\n",
    "loader = DataLoader(ClimateDataset(X_tensor, y_tensor), batch_size=batch_size, shuffle=False)"
   ]
  },
  {
   "cell_type": "code",
   "execution_count": 26,
   "id": "d3453d5d",
   "metadata": {},
   "outputs": [
    {
     "name": "stdout",
     "output_type": "stream",
     "text": [
      "Model loaded on device: cuda\n",
      "Pre-trained weights loaded successfully!\n"
     ]
    }
   ],
   "source": [
    "from model import NeuralNet\n",
    "from torch import nn, optim\n",
    "# Initialize model, loss function, and optimizer\n",
    "input_dim = 5  # Number of predictors (ssrd and vpd)\n",
    "model = NeuralNet(input_dim)\n",
    "device = torch.device(\"cuda\" if torch.cuda.is_available() else \"cpu\")\n",
    "\n",
    "# Load pre-trained weights\n",
    "model.load_state_dict(torch.load('./outputs/model_weights_fine-tuning_pft_ex.pth', map_location=device))\n",
    "model.to(device)\n",
    "model.eval()  # Set to evaluation mode\n",
    "\n",
    "print(f\"Model loaded on device: {device}\")\n",
    "print(\"Pre-trained weights loaded successfully!\")"
   ]
  },
  {
   "cell_type": "code",
   "execution_count": 27,
   "id": "5c9065ff",
   "metadata": {},
   "outputs": [
    {
     "name": "stdout",
     "output_type": "stream",
     "text": [
      "Generating predictions...\n"
     ]
    }
   ],
   "source": [
    "# Generate predictions using the loaded model\n",
    "predictions = []\n",
    "actual_values = []\n",
    "\n",
    "print(\"Generating predictions...\")\n",
    "with torch.no_grad():\n",
    "    for batch_X, batch_y in loader:\n",
    "        batch_X, batch_y = batch_X.to(device), batch_y.to(device)\n",
    "        outputs = model(batch_X)\n",
    "        \n",
    "        # Store predictions and actual values\n",
    "        predictions.append(outputs.cpu().numpy())\n",
    "        actual_values.append(batch_y.cpu().numpy())\n",
    "\n",
    "# Concatenate all predictions and actual values\n",
    "predictions = np.concatenate(predictions, axis=0).flatten()\n",
    "actual_values = np.concatenate(actual_values, axis=0).flatten()"
   ]
  },
  {
   "cell_type": "code",
   "execution_count": 28,
   "id": "9047b486",
   "metadata": {},
   "outputs": [],
   "source": [
    "predictions = predictions * gpp_std + gpp_mean  # Denormalize predictions"
   ]
  },
  {
   "cell_type": "code",
   "execution_count": 29,
   "id": "fb95b6dd",
   "metadata": {},
   "outputs": [
    {
     "name": "stdout",
     "output_type": "stream",
     "text": [
      "Generated 800,000 predictions\n",
      "Prediction range: [14.573752, 75.244657]\n",
      "Actual range: [14.128567, 80.707054]\n",
      "\n",
      "Model Performance:\n",
      "MSE: 0.9006110643\n",
      "RMSE: 0.9490053026\n",
      "MAE: 0.6512457705\n"
     ]
    }
   ],
   "source": [
    "print(f\"Generated {len(predictions):,} predictions\")\n",
    "print(f\"Prediction range: [{predictions.min():.6f}, {predictions.max():.6f}]\")\n",
    "print(f\"Actual range: [{actual_values.min():.6f}, {actual_values.max():.6f}]\")\n",
    "\n",
    "# Calculate some basic metrics\n",
    "mse = np.mean((predictions - actual_values) ** 2)\n",
    "rmse = np.sqrt(mse)\n",
    "mae = np.mean(np.abs(predictions - actual_values))\n",
    "\n",
    "print(f\"\\nModel Performance:\")\n",
    "print(f\"MSE: {mse:.10f}\")\n",
    "print(f\"RMSE: {rmse:.10f}\")\n",
    "print(f\"MAE: {mae:.10f}\")\n"
   ]
  },
  {
   "cell_type": "code",
   "execution_count": 30,
   "id": "d73a92be",
   "metadata": {},
   "outputs": [
    {
     "data": {
      "text/plain": [
       "<matplotlib.collections.PathCollection at 0x7fb45b961ea0>"
      ]
     },
     "execution_count": 30,
     "metadata": {},
     "output_type": "execute_result"
    },
    {
     "data": {
      "image/png": "[encoded data removed]",
      "text/plain": [
       "<Figure size 640x480 with 1 Axes>"
      ]
     },
     "metadata": {},
     "output_type": "display_data"
    }
   ],
   "source": [
    "import matplotlib.pyplot as plt\n",
    "plt.scatter(actual_values, predictions, s=1)"
   ]
  },
  {
   "cell_type": "code",
   "execution_count": 31,
   "id": "041b518d",
   "metadata": {},
   "outputs": [
    {
     "data": {
      "text/plain": [
       "(800000, 5)"
      ]
     },
     "execution_count": 31,
     "metadata": {},
     "output_type": "execute_result"
    }
   ],
   "source": [
    "output = np.concatenate((X, predictions.reshape(-1, 1), actual_values.reshape(-1, 1)), axis=1)\n",
    "output.shape"
   ]
  },
  {
   "cell_type": "code",
   "execution_count": 32,
   "id": "95522dd4",
   "metadata": {},
   "outputs": [],
   "source": [
    "np.save('./outputs/fine_tuning_forward_pft_ex.npy', output)"
   ]
  }
 ],
 "metadata": {
  "kernelspec": {
   "display_name": "Ellis_challenge",
   "language": "python",
   "name": "python3"
  },
  "language_info": {
   "codemirror_mode": {
    "name": "ipython",
    "version": 3
   },
   "file_extension": ".py",
   "mimetype": "text/x-python",
   "name": "python",
   "nbconvert_exporter": "python",
   "pygments_lexer": "ipython3",
   "version": "3.10.18"
  }
 },
 "nbformat": 4,
 "nbformat_minor": 5
}
