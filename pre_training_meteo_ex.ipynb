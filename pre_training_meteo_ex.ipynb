{
 "cells": [
  {
   "cell_type": "code",
   "execution_count": 20,
   "id": "3ac580a1",
   "metadata": {},
   "outputs": [],
   "source": [
    "import numpy as np\n",
    "samples = np.load('data/global_meteo_ex_norm.npy')\n",
    "n_subsample = 800000\n",
    "subsample_indices = np.random.choice(samples.shape[1], size=n_subsample, replace=False)\n",
    "# Extract features and target\n",
    "X = samples[0:2,subsample_indices].T\n",
    "y = samples[3,subsample_indices]"
   ]
  },
  {
   "cell_type": "code",
   "execution_count": 22,
   "id": "24b15df9",
   "metadata": {},
   "outputs": [
    {
     "data": {
      "text/plain": [
       "((800000, 2), (800000,))"
      ]
     },
     "execution_count": 22,
     "metadata": {},
     "output_type": "execute_result"
    }
   ],
   "source": [
    "X.shape, y.shape"
   ]
  },
  {
   "cell_type": "code",
   "execution_count": 21,
   "id": "c9a21807",
   "metadata": {},
   "outputs": [
    {
     "data": {
      "text/plain": [
       "np.int64(0)"
      ]
     },
     "execution_count": 21,
     "metadata": {},
     "output_type": "execute_result"
    }
   ],
   "source": [
    "np.sum(np.isnan(y))"
   ]
  },
  {
   "cell_type": "code",
   "execution_count": 23,
   "id": "a9aa36b8",
   "metadata": {},
   "outputs": [
    {
     "name": "stdout",
     "output_type": "stream",
     "text": [
      "Training set: 640,000 samples\n",
      "Validation set: 160,000 samples\n",
      "Total subsampled: 800,000 samples\n"
     ]
    }
   ],
   "source": [
    "# Split subsampled data into training and validation sets\n",
    "# Convert data to PyTorch tensors\n",
    "from sklearn.model_selection import train_test_split\n",
    "X_train, X_val, y_train, y_val = train_test_split(X, y, test_size=0.2, random_state=42)\n",
    "\n",
    "import torch\n",
    "X_train_tensor = torch.tensor(X_train, dtype=torch.float32)\n",
    "y_train_tensor = torch.tensor(y_train, dtype=torch.float32).unsqueeze(1)  # Ensure correct shape\n",
    "X_val_tensor = torch.tensor(X_val, dtype=torch.float32)\n",
    "y_val_tensor = torch.tensor(y_val, dtype=torch.float32).unsqueeze(1)\n",
    "\n",
    "print(f\"Training set: {X_train_tensor.shape[0]:,} samples\")\n",
    "print(f\"Validation set: {X_val_tensor.shape[0]:,} samples\")\n",
    "print(f\"Total subsampled: {X_train_tensor.shape[0] + X_val_tensor.shape[0]:,} samples\")"
   ]
  },
  {
   "cell_type": "code",
   "execution_count": 24,
   "id": "3107ea5c",
   "metadata": {},
   "outputs": [],
   "source": [
    "from model import ClimateDataset\n",
    "from torch.utils.data import DataLoader\n",
    "# Create DataLoaders\n",
    "batch_size = 64  # You can adjust this value based on your available memory and GPU capacity\n",
    "train_loader = DataLoader(ClimateDataset(X_train_tensor, y_train_tensor), batch_size=batch_size, shuffle=True)\n",
    "val_loader = DataLoader(ClimateDataset(X_val_tensor, y_val_tensor), batch_size=batch_size, shuffle=False)"
   ]
  },
  {
   "cell_type": "code",
   "execution_count": 25,
   "id": "92ccaea2",
   "metadata": {},
   "outputs": [
    {
     "name": "stdout",
     "output_type": "stream",
     "text": [
      "Epoch [1/10], Train Loss: 0.0214960499, Val Loss: 0.0176034149\n",
      "Epoch [2/10], Train Loss: 0.0182165210, Val Loss: 0.0177280528\n",
      "Epoch [3/10], Train Loss: 0.0180230310, Val Loss: 0.0179886473\n",
      "Epoch [4/10], Train Loss: 0.0179312543, Val Loss: 0.0178243490\n",
      "Epoch [5/10], Train Loss: 0.0178140882, Val Loss: 0.0174690621\n",
      "Epoch [6/10], Train Loss: 0.0177779048, Val Loss: 0.0177357737\n",
      "Epoch [7/10], Train Loss: 0.0177382000, Val Loss: 0.0177105760\n",
      "Epoch [8/10], Train Loss: 0.0176990333, Val Loss: 0.0186128591\n",
      "Epoch [9/10], Train Loss: 0.0176718913, Val Loss: 0.0174579988\n",
      "Epoch [10/10], Train Loss: 0.0176777286, Val Loss: 0.0173773733\n"
     ]
    }
   ],
   "source": [
    "from model import NeuralNet\n",
    "from torch import nn, optim\n",
    "# Initialize model, loss function, and optimizer\n",
    "input_dim = 2  # Number of predictors (ssrd and vpd)\n",
    "model = NeuralNet(input_dim)\n",
    "device = torch.device(\"cuda\" if torch.cuda.is_available() else \"cpu\")\n",
    "model.to(device)\n",
    "criterion = nn.MSELoss()\n",
    "optimizer = optim.Adam(model.parameters(), lr=0.001)\n",
    "\n",
    "# Training loop\n",
    "num_epochs = 10\n",
    "for epoch in range(num_epochs):\n",
    "    model.train()\n",
    "    total_train_loss = 0\n",
    "    for batch_X, batch_y in train_loader:\n",
    "        batch_X, batch_y = batch_X.to(device), batch_y.to(device)\n",
    "\n",
    "        optimizer.zero_grad()\n",
    "        outputs = model(batch_X)\n",
    "        loss = criterion(outputs, batch_y)\n",
    "        loss.backward()\n",
    "        optimizer.step()\n",
    "\n",
    "        total_train_loss += loss.item()\n",
    "\n",
    "    # Validation Step\n",
    "    model.eval()\n",
    "    total_val_loss = 0\n",
    "    with torch.no_grad():\n",
    "        for batch_X, batch_y in val_loader:\n",
    "            batch_X, batch_y = batch_X.to(device), batch_y.to(device)\n",
    "            outputs = model(batch_X)\n",
    "            loss = criterion(outputs, batch_y)\n",
    "            total_val_loss += loss.item()\n",
    "\n",
    "    avg_train_loss = total_train_loss / len(train_loader)\n",
    "    avg_val_loss = total_val_loss / len(val_loader)\n",
    "\n",
    "    print(f\"Epoch [{epoch+1}/{num_epochs}], Train Loss: {avg_train_loss:.10f}, \"\n",
    "            f\"Val Loss: {avg_val_loss:.10f}\")\n",
    "            "
   ]
  },
  {
   "cell_type": "code",
   "execution_count": 26,
   "id": "e5d18c2b",
   "metadata": {},
   "outputs": [],
   "source": [
    "torch.save(model.state_dict(), \"./outputs/model_weights_pre-training_meteo_ex.pth\")"
   ]
  }
 ],
 "metadata": {
  "kernelspec": {
   "display_name": "Ellis_challenge",
   "language": "python",
   "name": "python3"
  },
  "language_info": {
   "codemirror_mode": {
    "name": "ipython",
    "version": 3
   },
   "file_extension": ".py",
   "mimetype": "text/x-python",
   "name": "python",
   "nbconvert_exporter": "python",
   "pygments_lexer": "ipython3",
   "version": "3.10.18"
  }
 },
 "nbformat": 4,
 "nbformat_minor": 5
}
