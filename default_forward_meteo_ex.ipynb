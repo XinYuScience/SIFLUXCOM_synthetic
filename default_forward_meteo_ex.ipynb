{
 "cells": [
  {
   "cell_type": "code",
   "execution_count": 72,
   "id": "1d86aedf",
   "metadata": {},
   "outputs": [],
   "source": [
    "import numpy as np\n",
    "samples = np.load('data/global_meteo_ex.npy')\n",
    "n_subsample = 800000\n",
    "subsample_indices = np.random.choice(samples.shape[1], size=n_subsample, replace=False)\n",
    "# Extract features and target\n",
    "X = samples[0:2,subsample_indices].T\n",
    "y = samples[2,subsample_indices]"
   ]
  },
  {
   "cell_type": "code",
   "execution_count": 73,
   "id": "8e47abad",
   "metadata": {},
   "outputs": [],
   "source": [
    "stats_dict = np.load('data/stats_300_meteo_ex.npy', allow_pickle=True).item()\n",
    "ssrd_mean = stats_dict['ssrd_mean']\n",
    "ssrd_std = stats_dict['ssrd_std']\n",
    "vpd_mean = stats_dict['vpd_mean']\n",
    "vpd_std = stats_dict['vpd_std']\n",
    "gpp_mean = stats_dict['gpp_mean']\n",
    "gpp_std = stats_dict['gpp_std']"
   ]
  },
  {
   "cell_type": "code",
   "execution_count": 74,
   "id": "acf1356b",
   "metadata": {},
   "outputs": [],
   "source": [
    "# Normalize your input features X\n",
    "X_normalized = np.zeros_like(X)\n",
    "X_normalized[:, 0] = (X[:, 0] - ssrd_mean) / ssrd_std  # SSRD\n",
    "X_normalized[:, 1] = (X[:, 1] - vpd_mean) / vpd_std    # VPD    "
   ]
  },
  {
   "cell_type": "code",
   "execution_count": 75,
   "id": "72ed1773",
   "metadata": {},
   "outputs": [],
   "source": [
    "import torch\n",
    "X_tensor = torch.tensor(X_normalized, dtype=torch.float32)\n",
    "y_tensor = torch.tensor(y, dtype=torch.float32).unsqueeze(1)  # Ensure correct shape"
   ]
  },
  {
   "cell_type": "code",
   "execution_count": 76,
   "id": "5d55cd22",
   "metadata": {},
   "outputs": [],
   "source": [
    "from model import ClimateDataset\n",
    "from torch.utils.data import DataLoader\n",
    "# Create DataLoaders\n",
    "batch_size = 1024  # You can adjust this value based on your available memory and GPU capacity\n",
    "loader = DataLoader(ClimateDataset(X_tensor, y_tensor), batch_size=batch_size, shuffle=False)"
   ]
  },
  {
   "cell_type": "code",
   "execution_count": 77,
   "id": "d3453d5d",
   "metadata": {},
   "outputs": [
    {
     "name": "stdout",
     "output_type": "stream",
     "text": [
      "Model loaded on device: cuda\n",
      "Pre-trained weights loaded successfully!\n"
     ]
    }
   ],
   "source": [
    "from model import NeuralNet\n",
    "from torch import nn, optim\n",
    "# Initialize model, loss function, and optimizer\n",
    "input_dim = 2  # Number of predictors (ssrd and vpd)\n",
    "model = NeuralNet(input_dim)\n",
    "device = torch.device(\"cuda\" if torch.cuda.is_available() else \"cpu\")\n",
    "\n",
    "# Load pre-trained weights\n",
    "model.load_state_dict(torch.load('./outputs/model_weights_default_meteo_ex.pth', map_location=device))\n",
    "model.to(device)\n",
    "model.eval()  # Set to evaluation mode\n",
    "\n",
    "print(f\"Model loaded on device: {device}\")\n",
    "print(\"Pre-trained weights loaded successfully!\")"
   ]
  },
  {
   "cell_type": "code",
   "execution_count": 78,
   "id": "5c9065ff",
   "metadata": {},
   "outputs": [
    {
     "name": "stdout",
     "output_type": "stream",
     "text": [
      "Generating predictions...\n"
     ]
    }
   ],
   "source": [
    "# Generate predictions using the loaded model\n",
    "predictions = []\n",
    "actual_values = []\n",
    "\n",
    "print(\"Generating predictions...\")\n",
    "with torch.no_grad():\n",
    "    for batch_X, batch_y in loader:\n",
    "        batch_X, batch_y = batch_X.to(device), batch_y.to(device)\n",
    "        outputs = model(batch_X)\n",
    "        \n",
    "        # Store predictions and actual values\n",
    "        predictions.append(outputs.cpu().numpy())\n",
    "        actual_values.append(batch_y.cpu().numpy())\n",
    "\n",
    "# Concatenate all predictions and actual values\n",
    "predictions = np.concatenate(predictions, axis=0).flatten()\n",
    "actual_values = np.concatenate(actual_values, axis=0).flatten()"
   ]
  },
  {
   "cell_type": "code",
   "execution_count": 79,
   "id": "9047b486",
   "metadata": {},
   "outputs": [],
   "source": [
    "predictions = predictions * gpp_std + gpp_mean  # Denormalize predictions"
   ]
  },
  {
   "cell_type": "code",
   "execution_count": 80,
   "id": "fb95b6dd",
   "metadata": {},
   "outputs": [
    {
     "name": "stdout",
     "output_type": "stream",
     "text": [
      "Generated 800,000 predictions\n",
      "Prediction range: [-17.172349, 426.811300]\n",
      "Actual range: [-0.000420, 501.899658]\n",
      "\n",
      "Model Performance:\n",
      "MSE: 140.5843301360\n",
      "RMSE: 11.8568263096\n",
      "MAE: 7.0173517870\n"
     ]
    }
   ],
   "source": [
    "print(f\"Generated {len(predictions):,} predictions\")\n",
    "print(f\"Prediction range: [{predictions.min():.6f}, {predictions.max():.6f}]\")\n",
    "print(f\"Actual range: [{actual_values.min():.6f}, {actual_values.max():.6f}]\")\n",
    "\n",
    "# Calculate some basic metrics\n",
    "mse = np.mean((predictions - actual_values) ** 2)\n",
    "rmse = np.sqrt(mse)\n",
    "mae = np.mean(np.abs(predictions - actual_values))\n",
    "\n",
    "print(f\"\\nModel Performance:\")\n",
    "print(f\"MSE: {mse:.10f}\")\n",
    "print(f\"RMSE: {rmse:.10f}\")\n",
    "print(f\"MAE: {mae:.10f}\")\n",
    "\n",
    "# Save the predictions and actual values\n",
    "np.save('./outputs/predictions_default_meteo_ex.npy', predictions)"
   ]
  },
  {
   "cell_type": "code",
   "execution_count": 90,
   "id": "041b518d",
   "metadata": {},
   "outputs": [
    {
     "data": {
      "text/plain": [
       "(800000, 4)"
      ]
     },
     "execution_count": 90,
     "metadata": {},
     "output_type": "execute_result"
    }
   ],
   "source": [
    "output = np.concatenate((X, predictions.reshape(-1, 1), actual_values.reshape(-1, 1)), axis=1)\n",
    "output.shape"
   ]
  },
  {
   "cell_type": "code",
   "execution_count": 91,
   "id": "95522dd4",
   "metadata": {},
   "outputs": [],
   "source": [
    "np.save('./outputs/default_forward_meteo_ex.npy', output)"
   ]
  },
  {
   "cell_type": "code",
   "execution_count": null,
   "id": "9d9d5012",
   "metadata": {},
   "outputs": [],
   "source": []
  }
 ],
 "metadata": {
  "kernelspec": {
   "display_name": "Ellis_challenge",
   "language": "python",
   "name": "python3"
  },
  "language_info": {
   "codemirror_mode": {
    "name": "ipython",
    "version": 3
   },
   "file_extension": ".py",
   "mimetype": "text/x-python",
   "name": "python",
   "nbconvert_exporter": "python",
   "pygments_lexer": "ipython3",
   "version": "3.10.18"
  }
 },
 "nbformat": 4,
 "nbformat_minor": 5
}
